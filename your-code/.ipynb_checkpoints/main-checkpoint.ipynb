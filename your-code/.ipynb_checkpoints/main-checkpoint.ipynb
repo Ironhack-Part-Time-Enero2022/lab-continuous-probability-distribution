{
 "cells": [
  {
   "cell_type": "markdown",
   "metadata": {},
   "source": [
    "# Before your start:\n",
    "\n",
    "    Read the README.md file\n",
    "    Comment as much as you can and use the resources (README.md file)\n",
    "    Happy learning!"
   ]
  },
  {
   "cell_type": "markdown",
   "metadata": {},
   "source": [
    "In this exercise, we  will generate random numbers from the continuous disributions we learned in the lesson. There are two ways to generate random numbers:\n",
    "\n",
    "1. Using the numpy library \n",
    "1. using the Scipy library \n",
    "\n",
    "Use either or both of the lbraries in this exercise."
   ]
  },
  {
   "cell_type": "markdown",
   "metadata": {},
   "source": [
    "## Uniform Distribution\n",
    "\n",
    "To generate uniform random numbers between any two given values using scipy, we can either use the following code or the code that we have\n",
    "discussed in class:"
   ]
  },
  {
   "cell_type": "code",
   "execution_count": 1,
   "metadata": {},
   "outputs": [
    {
     "name": "stdout",
     "output_type": "stream",
     "text": [
      "[2.84345748 2.64741126 2.51722504 2.95952911 2.56030384 2.95254526\n",
      " 2.74927483 2.80281523 2.59228019 2.01913933]\n"
     ]
    }
   ],
   "source": [
    "from scipy.stats import uniform #https://docs.scipy.org/doc/scipy/reference/generated/scipy.stats.uniform.html\n",
    "x = uniform.rvs(size=10)\n",
    "a = 2\n",
    "b = 3\n",
    "randoms  = a + (b-a)*x\n",
    "print(randoms)"
   ]
  },
  {
   "cell_type": "markdown",
   "metadata": {},
   "source": [
    "**Your task:**\n",
    "\n",
    "1. Based on the code above, write a function that generates uniformly distributed random numbers. There are several requirements for your function:\n",
    "    * It should accept 3 parameters: \n",
    "        * `bottom` - the lower boundary of the generated numbers\n",
    "        * `ceiling` - the upper boundary of the generated numbers\n",
    "        * `count` - how many numbers to generate\n",
    "    * It should return an array of uniformly distributed random numbers\n",
    "\n",
    "1. Call your function with 2 sets of params below:\n",
    "    * bottom=10, ceiling=15, count=100\n",
    "    * bottom=10, ceiling=60, count=1,000\n",
    "\n",
    "1. Plot the uniform distributions generated above using histograms, where x axis is the value and y axis is the count. Let the histogram's number of bins be 10.\n",
    "\n",
    "Your output should look like below:\n",
    "\n",
    "![uniform distribution](ud.png)"
   ]
  },
  {
   "cell_type": "code",
   "execution_count": 3,
   "metadata": {},
   "outputs": [],
   "source": [
    "from scipy import stats\n",
    "import matplotlib.pyplot as plt\n",
    "import pandas as pd\n",
    "import numpy as np\n",
    "import math"
   ]
  },
  {
   "cell_type": "code",
   "execution_count": 4,
   "metadata": {},
   "outputs": [],
   "source": [
    "# your code here\n",
    "def generate_uniform(bottom, ceiling, count):\n",
    "    x = stats.uniform.rvs(size=count)\n",
    "    a = bottom\n",
    "    b = ceiling\n",
    "    return x\n",
    "\n",
    "u1 = generate_uniform(bottom=10, ceiling=15, count=100)\n",
    "u2= generate_uniform(bottom=10, ceiling=60, count=1000)"
   ]
  },
  {
   "cell_type": "code",
   "execution_count": 5,
   "metadata": {},
   "outputs": [
    {
     "data": {
      "text/plain": [
       "(array([16., 13., 18., 21., 26., 18., 18., 21., 14., 22., 14., 11., 21.,\n",
       "        17., 17., 25., 18., 16., 13., 25., 20., 28., 23., 21., 24., 15.,\n",
       "        21., 25., 23., 25., 28., 20., 17., 16., 14., 16., 26., 25., 19.,\n",
       "        21., 25., 18., 18., 19., 25., 14., 17., 21., 27., 25.]),\n",
       " array([0.00305442, 0.02299083, 0.04292724, 0.06286366, 0.08280007,\n",
       "        0.10273648, 0.12267289, 0.14260931, 0.16254572, 0.18248213,\n",
       "        0.20241855, 0.22235496, 0.24229137, 0.26222778, 0.2821642 ,\n",
       "        0.30210061, 0.32203702, 0.34197343, 0.36190985, 0.38184626,\n",
       "        0.40178267, 0.42171908, 0.4416555 , 0.46159191, 0.48152832,\n",
       "        0.50146473, 0.52140115, 0.54133756, 0.56127397, 0.58121038,\n",
       "        0.6011468 , 0.62108321, 0.64101962, 0.66095603, 0.68089245,\n",
       "        0.70082886, 0.72076527, 0.74070168, 0.7606381 , 0.78057451,\n",
       "        0.80051092, 0.82044733, 0.84038375, 0.86032016, 0.88025657,\n",
       "        0.90019298, 0.9201294 , 0.94006581, 0.96000222, 0.97993863,\n",
       "        0.99987505]),\n",
       " <BarContainer object of 50 artists>)"
      ]
     },
     "execution_count": 5,
     "metadata": {},
     "output_type": "execute_result"
    },
    {
     "data": {
      "text/plain": [
       "<Figure size 864x360 with 0 Axes>"
      ]
     },
     "metadata": {},
     "output_type": "display_data"
    },
    {
     "data": {
      "image/png": "[encoded data removed]",
      "text/plain": [
       "<Figure size 432x288 with 2 Axes>"
      ]
     },
     "metadata": {
      "needs_background": "light"
     },
     "output_type": "display_data"
    }
   ],
   "source": [
    "plt.figure(figsize = (12,5))\n",
    "\n",
    "fig, (ax1, ax2) = plt.subplots(1, 2)\n",
    "ax1.hist(u1, edgecolor = \"black\", facecolor = \"blue\", bins=50)\n",
    "ax2.hist(u2, edgecolor = \"black\", facecolor = \"green\", bins=50)"
   ]
  },
  {
   "cell_type": "markdown",
   "metadata": {},
   "source": [
    "How are the two distributions different?"
   ]
  },
  {
   "cell_type": "markdown",
   "metadata": {},
   "source": [
    "No obtengo los gráficos que me pedían en el enunciado, aunque desconozco el motivo. De todos modos, si obtuviese los correctos seguramente la mayor diferencia a simple vista estaría en el rango de valores graficados."
   ]
  },
  {
   "cell_type": "markdown",
   "metadata": {},
   "source": [
    "## Normal Distribution\n",
    "\n",
    "1. In the same way in the Uniform Distribution challenge, write a function that generates normally distributed random numbers.\n",
    "1. Generate 1,000 normally distributed numbers with the average of 10 and standard deviation of 1\n",
    "1. Generate 1,000 normally distributed numbers with the average of 10 and standard deviation of 50\n",
    "2. Plot the distributions of the data generated.\n",
    "\n",
    "Expected output:\n",
    "\n",
    "![normal distribution](nd.png)"
   ]
  },
  {
   "cell_type": "code",
   "execution_count": 6,
   "metadata": {},
   "outputs": [],
   "source": [
    "# your code here\n",
    "def generate_normal(mean, std):\n",
    "    normal = stats.norm(mean, std) \n",
    "    return normal.rvs(size=1000)\n",
    "\n",
    "n1 = generate_normal(10, 1)\n",
    "n2 = generate_normal(10, 50)"
   ]
  },
  {
   "cell_type": "code",
   "execution_count": 7,
   "metadata": {},
   "outputs": [
    {
     "data": {
      "text/plain": [
       "(array([ 3.,  0.,  4.,  2.,  2.,  7.,  8.,  5.,  5., 13., 11.,  8., 19.,\n",
       "        23., 13., 25., 27., 35., 32., 29., 55., 37., 41., 55., 42., 28.,\n",
       "        48., 45., 54., 49., 37., 32., 27., 27., 22., 28., 19., 18., 15.,\n",
       "        12.,  9.,  7.,  4.,  4.,  3.,  5.,  3.,  0.,  1.,  2.]),\n",
       " array([-1.36436195e+02, -1.30510432e+02, -1.24584670e+02, -1.18658908e+02,\n",
       "        -1.12733145e+02, -1.06807383e+02, -1.00881620e+02, -9.49558577e+01,\n",
       "        -8.90300952e+01, -8.31043327e+01, -7.71785702e+01, -7.12528078e+01,\n",
       "        -6.53270453e+01, -5.94012828e+01, -5.34755204e+01, -4.75497579e+01,\n",
       "        -4.16239954e+01, -3.56982329e+01, -2.97724705e+01, -2.38467080e+01,\n",
       "        -1.79209455e+01, -1.19951831e+01, -6.06942059e+00, -1.43658116e-01,\n",
       "         5.78210436e+00,  1.17078668e+01,  1.76336293e+01,  2.35593918e+01,\n",
       "         2.94851542e+01,  3.54109167e+01,  4.13366792e+01,  4.72624417e+01,\n",
       "         5.31882041e+01,  5.91139666e+01,  6.50397291e+01,  7.09654915e+01,\n",
       "         7.68912540e+01,  8.28170165e+01,  8.87427790e+01,  9.46685414e+01,\n",
       "         1.00594304e+02,  1.06520066e+02,  1.12445829e+02,  1.18371591e+02,\n",
       "         1.24297354e+02,  1.30223116e+02,  1.36148879e+02,  1.42074641e+02,\n",
       "         1.48000404e+02,  1.53926166e+02,  1.59851929e+02]),\n",
       " <BarContainer object of 50 artists>)"
      ]
     },
     "execution_count": 7,
     "metadata": {},
     "output_type": "execute_result"
    },
    {
     "data": {
      "text/plain": [
       "<Figure size 720x360 with 0 Axes>"
      ]
     },
     "metadata": {},
     "output_type": "display_data"
    },
    {
     "data": {
      "image/png": "[encoded data removed]",
      "text/plain": [
       "<Figure size 432x288 with 2 Axes>"
      ]
     },
     "metadata": {
      "needs_background": "light"
     },
     "output_type": "display_data"
    }
   ],
   "source": [
    "plt.figure(figsize = (10,5))\n",
    "\n",
    "fig, (ax1, ax2) = plt.subplots(1, 2)\n",
    "ax1.hist(n1, edgecolor = \"black\", facecolor = \"blue\", bins=50)\n",
    "ax2.hist(n2, edgecolor = \"black\", facecolor = \"green\", bins=50)"
   ]
  },
  {
   "cell_type": "markdown",
   "metadata": {},
   "source": [
    "How are the two distributions different?"
   ]
  },
  {
   "cell_type": "markdown",
   "metadata": {},
   "source": [
    "#### your answer below\n",
    "Ambas distribuciones normales son muy similares, sin embargo, la segunda contiene algunos valores extraños en el centro, por lo que habría que analizarla en profundidad para obtener una respuesta concreta de su distribución."
   ]
  },
  {
   "cell_type": "markdown",
   "metadata": {},
   "source": [
    "## Normal Distribution of Real Data\n",
    "\n",
    "In this challenge we are going to take a look the real data. We will use vehicles.csv file for this exercise"
   ]
  },
  {
   "cell_type": "markdown",
   "metadata": {},
   "source": [
    "First import vehicles.csv.\n",
    "Then plot the histograms for the following variables:\n",
    "\n",
    "1. Fuel Barrels/Year"
   ]
  },
  {
   "cell_type": "code",
   "execution_count": 11,
   "metadata": {},
   "outputs": [],
   "source": [
    "# your code here\n",
    "vehicles = pd.read_csv('vehicles.csv')"
   ]
  },
  {
   "cell_type": "markdown",
   "metadata": {},
   "source": [
    "2. CO2 Emission Grams/Mile "
   ]
  },
  {
   "cell_type": "code",
   "execution_count": 41,
   "metadata": {},
   "outputs": [
    {
     "data": {
      "text/plain": [
       "(array([1.300e+01, 2.100e+01, 1.490e+02, 6.830e+02, 3.422e+03, 6.783e+03,\n",
       "        9.421e+03, 5.990e+03, 2.530e+03, 4.295e+03, 1.276e+03, 7.340e+02,\n",
       "        4.430e+02, 1.300e+02, 0.000e+00, 3.600e+01, 0.000e+00, 2.100e+01,\n",
       "        0.000e+00, 5.000e+00]),\n",
       " array([  37.        ,   98.62857143,  160.25714286,  221.88571429,\n",
       "         283.51428571,  345.14285714,  406.77142857,  468.4       ,\n",
       "         530.02857143,  591.65714286,  653.28571429,  714.91428571,\n",
       "         776.54285714,  838.17142857,  899.8       ,  961.42857143,\n",
       "        1023.05714286, 1084.68571429, 1146.31428571, 1207.94285714,\n",
       "        1269.57142857]),\n",
       " <BarContainer object of 20 artists>)"
      ]
     },
     "execution_count": 41,
     "metadata": {},
     "output_type": "execute_result"
    },
    {
     "data": {
      "image/png": "[encoded data removed]",
      "text/plain": [
       "<Figure size 720x360 with 1 Axes>"
      ]
     },
     "metadata": {
      "needs_background": "light"
     },
     "output_type": "display_data"
    }
   ],
   "source": [
    "# your code here\n",
    "plt.figure(figsize = (10,5))\n",
    "\n",
    "plt.hist(vehicles['CO2 Emission Grams/Mile'], edgecolor = \"black\", \n",
    "                        facecolor = \"mediumseagreen\", \n",
    "                        bins = 20)"
   ]
  },
  {
   "cell_type": "markdown",
   "metadata": {},
   "source": [
    "3. Combined MPG"
   ]
  },
  {
   "cell_type": "code",
   "execution_count": 42,
   "metadata": {},
   "outputs": [
    {
     "data": {
      "text/plain": [
       "(array([6.600e+01, 5.720e+02, 3.943e+03, 4.556e+03, 9.261e+03, 6.251e+03,\n",
       "        5.587e+03, 2.345e+03, 1.784e+03, 6.320e+02, 3.450e+02, 2.910e+02,\n",
       "        8.400e+01, 1.260e+02, 4.400e+01, 2.100e+01, 1.800e+01, 1.500e+01,\n",
       "        9.000e+00, 2.000e+00]),\n",
       " array([ 7.  ,  9.45, 11.9 , 14.35, 16.8 , 19.25, 21.7 , 24.15, 26.6 ,\n",
       "        29.05, 31.5 , 33.95, 36.4 , 38.85, 41.3 , 43.75, 46.2 , 48.65,\n",
       "        51.1 , 53.55, 56.  ]),\n",
       " <BarContainer object of 20 artists>)"
      ]
     },
     "execution_count": 42,
     "metadata": {},
     "output_type": "execute_result"
    },
    {
     "data": {
      "image/png": "[encoded data removed]",
      "text/plain": [
       "<Figure size 720x360 with 1 Axes>"
      ]
     },
     "metadata": {
      "needs_background": "light"
     },
     "output_type": "display_data"
    }
   ],
   "source": [
    "# your code here\n",
    "plt.figure(figsize = (10,5))\n",
    "\n",
    "plt.hist(vehicles['Combined MPG'], edgecolor = \"black\", \n",
    "                        facecolor = \"mediumseagreen\", \n",
    "                        bins = 20)"
   ]
  },
  {
   "cell_type": "markdown",
   "metadata": {},
   "source": [
    "Which one(s) of the variables are nearly normally distributed? How do you know?"
   ]
  },
  {
   "cell_type": "markdown",
   "metadata": {},
   "source": [
    "#### your answer here\n",
    "A simple vista parece Combined MPG, sin embargo, sería necesario normalizar para comprobar con exactitud."
   ]
  },
  {
   "cell_type": "markdown",
   "metadata": {},
   "source": [
    "## Exponential Distribution"
   ]
  },
  {
   "cell_type": "markdown",
   "metadata": {},
   "source": [
    "1. Using `numpy.random.exponential`, create a function that returns a list of numbers exponentially distributed with the mean of 10. \n",
    "\n",
    "1. Use the function to generate two number sequences with the size of 10 and 100.\n",
    "\n",
    "1. Plot the distributions as histograms with the nubmer of bins as 100.\n",
    "\n",
    "Your output should look like below:\n",
    "\n",
    "![exponential distribution](ed.png)"
   ]
  },
  {
   "cell_type": "code",
   "execution_count": 9,
   "metadata": {},
   "outputs": [],
   "source": [
    "# your code here\n",
    "def generate_exp(mean):\n",
    "    return np.random.exponential(mean, 1000)\n",
    "\n",
    "e1 = generate_exp(1)\n",
    "e2 = generate_exp(100)"
   ]
  },
  {
   "cell_type": "code",
   "execution_count": 10,
   "metadata": {},
   "outputs": [
    {
     "data": {
      "text/plain": [
       "(array([63., 53., 51., 59., 55., 42., 50., 39., 44., 44., 31., 26., 27.,\n",
       "        28., 17., 34., 24., 20., 21., 29.,  6., 19., 10., 19.,  8., 10.,\n",
       "        11., 13., 15., 10., 14., 10.,  6.,  1., 10., 10.,  6.,  5.,  4.,\n",
       "         1.,  4.,  6.,  1.,  3.,  4.,  6.,  1.,  1.,  2.,  3.,  2.,  1.,\n",
       "         1.,  2.,  1.,  1.,  0.,  2.,  0.,  2.,  0.,  2.,  0.,  0.,  1.,\n",
       "         0.,  0.,  1.,  1.,  0.,  1.,  1.,  1.,  0.,  0.,  0.,  0.,  0.,\n",
       "         0.,  0.,  0.,  0.,  0.,  0.,  0.,  0.,  1.,  0.,  0.,  0.,  1.,\n",
       "         0.,  0.,  0.,  0.,  1.,  0.,  0.,  0.,  1.]),\n",
       " array([3.00298323e-02, 7.16689894e+00, 1.43037681e+01, 2.14406372e+01,\n",
       "        2.85775063e+01, 3.57143754e+01, 4.28512445e+01, 4.99881136e+01,\n",
       "        5.71249827e+01, 6.42618518e+01, 7.13987210e+01, 7.85355901e+01,\n",
       "        8.56724592e+01, 9.28093283e+01, 9.99461974e+01, 1.07083067e+02,\n",
       "        1.14219936e+02, 1.21356805e+02, 1.28493674e+02, 1.35630543e+02,\n",
       "        1.42767412e+02, 1.49904281e+02, 1.57041150e+02, 1.64178019e+02,\n",
       "        1.71314889e+02, 1.78451758e+02, 1.85588627e+02, 1.92725496e+02,\n",
       "        1.99862365e+02, 2.06999234e+02, 2.14136103e+02, 2.21272972e+02,\n",
       "        2.28409841e+02, 2.35546711e+02, 2.42683580e+02, 2.49820449e+02,\n",
       "        2.56957318e+02, 2.64094187e+02, 2.71231056e+02, 2.78367925e+02,\n",
       "        2.85504794e+02, 2.92641663e+02, 2.99778533e+02, 3.06915402e+02,\n",
       "        3.14052271e+02, 3.21189140e+02, 3.28326009e+02, 3.35462878e+02,\n",
       "        3.42599747e+02, 3.49736616e+02, 3.56873485e+02, 3.64010355e+02,\n",
       "        3.71147224e+02, 3.78284093e+02, 3.85420962e+02, 3.92557831e+02,\n",
       "        3.99694700e+02, 4.06831569e+02, 4.13968438e+02, 4.21105307e+02,\n",
       "        4.28242177e+02, 4.35379046e+02, 4.42515915e+02, 4.49652784e+02,\n",
       "        4.56789653e+02, 4.63926522e+02, 4.71063391e+02, 4.78200260e+02,\n",
       "        4.85337129e+02, 4.92473999e+02, 4.99610868e+02, 5.06747737e+02,\n",
       "        5.13884606e+02, 5.21021475e+02, 5.28158344e+02, 5.35295213e+02,\n",
       "        5.42432082e+02, 5.49568951e+02, 5.56705821e+02, 5.63842690e+02,\n",
       "        5.70979559e+02, 5.78116428e+02, 5.85253297e+02, 5.92390166e+02,\n",
       "        5.99527035e+02, 6.06663904e+02, 6.13800773e+02, 6.20937643e+02,\n",
       "        6.28074512e+02, 6.35211381e+02, 6.42348250e+02, 6.49485119e+02,\n",
       "        6.56621988e+02, 6.63758857e+02, 6.70895726e+02, 6.78032595e+02,\n",
       "        6.85169465e+02, 6.92306334e+02, 6.99443203e+02, 7.06580072e+02,\n",
       "        7.13716941e+02]),\n",
       " <BarContainer object of 100 artists>)"
      ]
     },
     "execution_count": 10,
     "metadata": {},
     "output_type": "execute_result"
    },
    {
     "data": {
      "text/plain": [
       "<Figure size 720x360 with 0 Axes>"
      ]
     },
     "metadata": {},
     "output_type": "display_data"
    },
    {
     "data": {
      "image/png": "[encoded data removed]",
      "text/plain": [
       "<Figure size 432x288 with 2 Axes>"
      ]
     },
     "metadata": {
      "needs_background": "light"
     },
     "output_type": "display_data"
    }
   ],
   "source": [
    "plt.figure(figsize = (10,5))\n",
    "\n",
    "fig, (ax1, ax2) = plt.subplots(1, 2)\n",
    "ax1.hist(e1,  edgecolor = \"blue\", facecolor = \"blue\", bins=100)\n",
    "ax2.hist(e2, edgecolor = \"blue\", facecolor = \"blue\", bins=100)"
   ]
  },
  {
   "cell_type": "markdown",
   "metadata": {},
   "source": [
    "How are the two distributions different?"
   ]
  },
  {
   "cell_type": "markdown",
   "metadata": {},
   "source": [
    "#### your answer here\n",
    "La segunda porece aplanarse de manera más adecuada, por lo que, en principio, se obtendría un mayor ajuste posterior."
   ]
  },
  {
   "cell_type": "markdown",
   "metadata": {},
   "source": [
    "## Exponential Distribution of Real Data\n",
    "\n",
    "Suppose that the amount of time one spends in a bank is exponentially distributed with mean as 10 minutes (i.e. λ = 1/10). What is the probability that a customer will spend less than fifteen minutes in the bank? \n",
    "\n",
    "Write a code in python to solve this problem"
   ]
  },
  {
   "cell_type": "code",
   "execution_count": null,
   "metadata": {},
   "outputs": [],
   "source": [
    "# your answer here\n",
    "# Hint: This is same as saying P(x<15)\n",
    "\n"
   ]
  },
  {
   "cell_type": "markdown",
   "metadata": {},
   "source": [
    "What is the probability that the customer will spend more than 15 minutes"
   ]
  },
  {
   "cell_type": "code",
   "execution_count": null,
   "metadata": {},
   "outputs": [],
   "source": [
    "# your answer here"
   ]
  },
  {
   "cell_type": "code",
   "execution_count": null,
   "metadata": {},
   "outputs": [],
   "source": []
  }
 ],
 "metadata": {
  "kernelspec": {
   "display_name": "Python 3 (ipykernel)",
   "language": "python",
   "name": "python3"
  },
  "language_info": {
   "codemirror_mode": {
    "name": "ipython",
    "version": 3
   },
   "file_extension": ".py",
   "mimetype": "text/x-python",
   "name": "python",
   "nbconvert_exporter": "python",
   "pygments_lexer": "ipython3",
   "version": "3.9.5"
  }
 },
 "nbformat": 4,
 "nbformat_minor": 2
}
